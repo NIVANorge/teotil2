{
 "cells": [
  {
   "cell_type": "code",
   "execution_count": null,
   "metadata": {},
   "outputs": [],
   "source": [
    "import os\n",
    "from collections import defaultdict\n",
    "\n",
    "import cartopy\n",
    "import cartopy.crs as ccrs\n",
    "import cartopy.feature as cfeature\n",
    "import geopandas as gpd\n",
    "import matplotlib.pyplot as plt\n",
    "import networkx as nx\n",
    "import nivapy3 as nivapy\n",
    "import numpy as np\n",
    "import pandas as pd\n",
    "import seaborn as sn\n",
    "import teotil2 as teo\n",
    "import utils\n",
    "from rasterstats import zonal_stats\n",
    "\n",
    "plt.style.use(\"ggplot\")"
   ]
  },
  {
   "cell_type": "code",
   "execution_count": null,
   "metadata": {},
   "outputs": [],
   "source": [
    "# Connect to PostGIS\n",
    "eng = nivapy.da.connect_postgis()"
   ]
  },
  {
   "cell_type": "markdown",
   "metadata": {},
   "source": [
    "# TEOTIL2 Metals\n",
    "\n",
    "**Note:** This notebook uses data from NIVA's JupyterHub and should be run there."
   ]
  },
  {
   "cell_type": "markdown",
   "metadata": {},
   "source": [
    "## Part 1: Spatial interpolation and regression\n",
    "\n",
    "For TEOTIL2 Metals, we will assume that metals in freshwaters come from three possible sources:\n",
    "\n",
    " * Point inputs from industry, renseanlegg, fish farms etc.\n",
    " * Diffuse inputs from atmostpheric deposition\n",
    " * Diffuse inputs from geological weathering\n",
    " \n",
    "Extending TEOTIL2 to include metals requires deriving two main parameters for each metal:\n",
    "\n",
    " 1. **Export coefficients** to convert concentrations measured in mosses (assumed to reflect atmospheric deposition) into actual deposition inputs to water bodies, and \n",
    " \n",
    " 2. **Retention factors** for each catchment, describing how much of the material added from point, geological and atmospheric souces is retained in each catchment (and how much is transmitted downstream)\n",
    " \n",
    "Initial development of TEOTIL2 Metals (documented [here](http://nbviewer.jupyter.org/github/JamesSample/rid/blob/master/notebooks/nope_metals_3.ipynb)) attempted to derive export coefficients by comparing the moss and geological datasets to water chemistry data from the **1995 \"1000 Lakes\" survey**. However, for most metals, the proportion of samples from the 1995 survey with values at or **below the limit of detection (LOD)** is very high, making it impossible to identify robust relationships. Development of TEOTIL2 Metals was therefore postponed for one year, in anticipation of a new \"1000 Lakes\" survey with lower LODs scheduled for autumn 2019.\n",
    "\n",
    "The **2019 1000 Lakes** dataset provides a comprehensive and up-to-date picture of metal concentrations across Norway. This notebook repeats some of the preliminary analysis using the new dataset. The aims are to:\n",
    "\n",
    " 1. Interpolate the moss and geochemical datasets onto a common grid for comparison\n",
    " \n",
    " 2. For each of the \"1000 Lakes\" catchments, calculate \"zonal statistics\" summarising mean moss and geochemical concentrations\n",
    " \n",
    " 3. Explore statistical relationships relating metal concentrations measured in lakes in 2019 to the moss and geochemistry datasets"
   ]
  },
  {
   "cell_type": "markdown",
   "metadata": {},
   "source": [
    "## 1. Define common grid for spatial interpolation"
   ]
  },
  {
   "cell_type": "code",
   "execution_count": null,
   "metadata": {},
   "outputs": [],
   "source": [
    "# Define co-ord system\n",
    "crs = ccrs.AlbersEqualArea(\n",
    "    central_longitude=15,\n",
    "    central_latitude=65,\n",
    "    false_easting=650000,\n",
    "    false_northing=800000,\n",
    "    standard_parallels=(55, 75),\n",
    ")\n",
    "\n",
    "# Set up grid\n",
    "cell_size = 1000  # metres\n",
    "\n",
    "# Extent\n",
    "xmin = 0\n",
    "xmax = 1300000\n",
    "ymin = 0\n",
    "ymax = 1600000\n",
    "extent = [xmin, xmax, ymin, ymax]\n",
    "\n",
    "# Set up grid for interpolation\n",
    "# Shift by (cell_size/2) s.t. values are estimated for the centre of each grid square\n",
    "gridx = np.arange(xmin, xmax, cell_size) + (cell_size / 2.0)\n",
    "gridy = np.arange(ymin, ymax, cell_size) + (cell_size / 2.0)\n",
    "\n",
    "# Get Natural Earth data\n",
    "land_50m = cfeature.NaturalEarthFeature(\n",
    "    category=\"cultural\",\n",
    "    name=\"admin_0_countries\",\n",
    "    scale=\"50m\",\n",
    "    edgecolor=\"black\",\n",
    "    facecolor=cfeature.COLORS[\"land\"],\n",
    ")\n",
    "\n",
    "sea_50m = cfeature.NaturalEarthFeature(\n",
    "    category=\"physical\",\n",
    "    name=\"ocean\",\n",
    "    scale=\"50m\",\n",
    "    edgecolor=\"none\",\n",
    "    facecolor=cfeature.COLORS[\"water\"],\n",
    "    alpha=1,\n",
    ")\n",
    "\n",
    "country_shp = cartopy.io.shapereader.natural_earth(\n",
    "    resolution=\"50m\", category=\"cultural\", name=\"admin_0_countries\"\n",
    ")"
   ]
  },
  {
   "cell_type": "markdown",
   "metadata": {},
   "source": [
    "## 2. Spatially interpolate moss data\n",
    "\n",
    "Moss surveys are conducted every 5 years, but the number of sites sampled in recent years has been reduced substantially. The most comprehensive survey in terms of the number of data points and use if modern analytical methods (i.e. low LODs) seems to be from 2005. This dataset is used below. \n",
    "\n",
    "**Note:** Parameters used for the spatial interpolation algorithm below are taken from the preliminary analysis."
   ]
  },
  {
   "cell_type": "code",
   "execution_count": null,
   "metadata": {},
   "outputs": [],
   "source": [
    "# Read moss data\n",
    "year = 2005\n",
    "moss_par_list = [\"As\", \"Cd\", \"Cr\", \"Cu\", \"Hg\", \"Ni\", \"Pb\", \"Zn\"]\n",
    "moss_xlsx = r\"../data/metals/mosses/moss_data_tidied.xlsx\"\n",
    "moss_df = pd.read_excel(moss_xlsx, sheet_name=\"mosses_%s\" % year)\n",
    "moss_df[moss_df < 0] = 0\n",
    "\n",
    "for par in moss_par_list:\n",
    "    print(f\"Processing: {year} {par.capitalize()}\")\n",
    "    par = par.lower()\n",
    "    df = moss_df[[\"lat\", \"lon\", par]].dropna(how=\"any\")\n",
    "\n",
    "    # Map (long, lat) to projected (x, y) and reformat to syntax required\n",
    "    # by interp algorithms\n",
    "    pts = crs.transform_points(\n",
    "        src_crs=ccrs.PlateCarree(), x=df[\"lon\"].values, y=df[\"lat\"].values\n",
    "    )[:, :2]\n",
    "\n",
    "    # Get values to interpolate\n",
    "    vals = df[par].values\n",
    "\n",
    "    # IDW interpolation\n",
    "    idw = nivapy.spatial.interp_idw(pts, vals, gridx, gridy, n_near=8, p=2)\n",
    "\n",
    "    # Save output\n",
    "    idw_path = f\"../data/metals/mosses/moss_{par}_{year}_mgpkg_idw_n8_p2.tif\"\n",
    "    nivapy.spatial.array_to_gtiff(\n",
    "        xmin,\n",
    "        ymax,\n",
    "        cell_size,\n",
    "        idw_path,\n",
    "        idw,\n",
    "        crs.proj4_init,\n",
    "        no_data_value=-9999,\n",
    "        bit_depth=\"Float32\",\n",
    "    )"
   ]
  },
  {
   "cell_type": "code",
   "execution_count": null,
   "metadata": {},
   "outputs": [],
   "source": [
    "# Setup fig\n",
    "fig = plt.figure(figsize=(15, 15))\n",
    "\n",
    "# Loop over data\n",
    "for idx, par in enumerate(moss_par_list):\n",
    "    # Read data\n",
    "    gtiff_path = f\"../data/metals/mosses/moss_{par.lower()}_{year}_mgpkg_idw_n8_p2.tif\"\n",
    "    data = nivapy.spatial.read_raster(gtiff_path, band_no=1)[0]\n",
    "\n",
    "    # Plot\n",
    "    ax = fig.add_subplot(3, 3, idx + 1, projection=crs)\n",
    "    ax.set_extent(extent, crs=crs)\n",
    "    ax.set_title(\"%s (%s)\" % (par.capitalize(), year), fontsize=20)\n",
    "    cax = ax.imshow(\n",
    "        data,\n",
    "        zorder=1,\n",
    "        extent=extent,\n",
    "        cmap=\"coolwarm\",\n",
    "        alpha=0.7,\n",
    "        interpolation=\"none\",\n",
    "        vmax=np.nanpercentile(data, 95),\n",
    "    )\n",
    "\n",
    "    # Add colourbar\n",
    "    cbar = fig.colorbar(cax)\n",
    "\n",
    "    # Make Norway \"hollow\" so interpolated vaues are visible.\n",
    "    # Make everywhere else opaque to mask wildly extrapolated values\n",
    "    reader = cartopy.io.shapereader.Reader(country_shp)\n",
    "    countries = reader.records()\n",
    "    for country in countries:\n",
    "        if country.attributes[\"NAME\"] == \"Norway\":\n",
    "            # Transparent\n",
    "            ax.add_geometries(\n",
    "                [country.geometry],\n",
    "                ccrs.PlateCarree(),  # CRS of Natural Earth data\n",
    "                facecolor=\"none\",\n",
    "                edgecolor=\"black\",\n",
    "                zorder=5,\n",
    "            )\n",
    "        else:\n",
    "            # Opaque\n",
    "            ax.add_geometries(\n",
    "                [country.geometry],\n",
    "                ccrs.PlateCarree(),  # CRS of Natural Earth data\n",
    "                facecolor=cfeature.COLORS[\"land\"],\n",
    "                edgecolor=\"black\",\n",
    "                zorder=5,\n",
    "            )\n",
    "\n",
    "    # Add sea\n",
    "    ax.add_feature(sea_50m, zorder=4)\n",
    "\n",
    "plt.tight_layout()\n",
    "\n",
    "# Save\n",
    "out_path = f\"../plots/metals/mosses/mosses_{year}_idw_n8_p2.png\"\n",
    "plt.savefig(out_path, dpi=300)"
   ]
  },
  {
   "cell_type": "markdown",
   "metadata": {},
   "source": [
    "## 3. Spatially interpolate geochemistry data\n",
    "\n",
    "The workflow below is taken from the preliminary analysis."
   ]
  },
  {
   "cell_type": "code",
   "execution_count": null,
   "metadata": {},
   "outputs": [],
   "source": [
    "# Read geo data\n",
    "geo_xlsx = r\"../data/metals/geochemistry/ngu_geochem_tidied.xlsx\"\n",
    "geo_df = pd.read_excel(geo_xlsx, sheet_name=\"nitric_acid\")\n",
    "del geo_df[\"date\"], geo_df[\"from_depth\"], geo_df[\"to_depth\"]\n",
    "\n",
    "# Loop over pars\n",
    "geol_par_list = [\"As\", \"Cr\", \"Cu\", \"Ni\", \"Pb\", \"Zn\"]\n",
    "\n",
    "for par in geol_par_list:\n",
    "    print(f\"Processing: {par}\")\n",
    "\n",
    "    par = par.lower()\n",
    "    df = geo_df[[\"lat\", \"lon\", par]].dropna(how=\"any\")\n",
    "\n",
    "    # Map (long, lat) to projected (x, y) and reformat to syntax required\n",
    "    # by interp algorithms\n",
    "    pts = crs.transform_points(\n",
    "        src_crs=ccrs.PlateCarree(), x=df[\"lon\"].values, y=df[\"lat\"].values\n",
    "    )[:, :2]\n",
    "\n",
    "    # Get values to interpolate\n",
    "    vals = df[par].values\n",
    "\n",
    "    # IDW interpolation\n",
    "    idw = nivapy.spatial.interp_idw(pts, vals, gridx, gridy, n_near=20, p=1)\n",
    "\n",
    "    # Save output\n",
    "    idw_path = f\"../data/metals/geochemistry/geochem_{par}_mgpkg_idw_n20_p1.tif\"\n",
    "    nivapy.spatial.array_to_gtiff(\n",
    "        xmin,\n",
    "        ymax,\n",
    "        cell_size,\n",
    "        idw_path,\n",
    "        idw,\n",
    "        crs.proj4_init,\n",
    "        no_data_value=-9999,\n",
    "        bit_depth=\"Float32\",\n",
    "    )"
   ]
  },
  {
   "cell_type": "code",
   "execution_count": null,
   "metadata": {},
   "outputs": [],
   "source": [
    "# Setup fig\n",
    "fig = plt.figure(figsize=(15, 15))\n",
    "\n",
    "# Loop over data\n",
    "for idx, par in enumerate(geol_par_list):\n",
    "    # Read data\n",
    "    gtiff_path = (\n",
    "        f\"../data/metals/geochemistry/geochem_{par.lower()}_mgpkg_idw_n20_p1.tif\"\n",
    "    )\n",
    "    data = nivapy.spatial.read_raster(gtiff_path, band_no=1)[0]\n",
    "\n",
    "    # Plot\n",
    "    ax = fig.add_subplot(3, 3, idx + 1, projection=crs)\n",
    "    ax.set_extent(extent, crs=crs)\n",
    "    ax.set_title(\"%s (%s)\" % (par.capitalize(), year), fontsize=20)\n",
    "    cax = ax.imshow(\n",
    "        data,\n",
    "        zorder=1,\n",
    "        extent=extent,\n",
    "        cmap=\"coolwarm\",\n",
    "        alpha=0.7,\n",
    "        interpolation=\"none\",\n",
    "        vmax=np.nanpercentile(data, 95),\n",
    "    )\n",
    "\n",
    "    # Add colourbar\n",
    "    cbar = fig.colorbar(cax)\n",
    "\n",
    "    # Make Norway \"hollow\" so interpolated vaues are visible.\n",
    "    # Make everywhere else opaque to mask wildly extrapolated values\n",
    "    reader = cartopy.io.shapereader.Reader(country_shp)\n",
    "    countries = reader.records()\n",
    "    for country in countries:\n",
    "        if country.attributes[\"NAME\"] == \"Norway\":\n",
    "            # Transparent\n",
    "            ax.add_geometries(\n",
    "                [country.geometry],\n",
    "                ccrs.PlateCarree(),  # CRS of Natural Earth data\n",
    "                facecolor=\"none\",\n",
    "                edgecolor=\"black\",\n",
    "                zorder=5,\n",
    "            )\n",
    "        else:\n",
    "            # Opaque\n",
    "            ax.add_geometries(\n",
    "                [country.geometry],\n",
    "                ccrs.PlateCarree(),  # CRS of Natural Earth data\n",
    "                facecolor=cfeature.COLORS[\"land\"],\n",
    "                edgecolor=\"black\",\n",
    "                zorder=5,\n",
    "            )\n",
    "\n",
    "    # Add sea\n",
    "    ax.add_feature(sea_50m, zorder=4)\n",
    "\n",
    "plt.tight_layout()\n",
    "\n",
    "# Save\n",
    "out_path = f\"../plots/metals/geochemistry/geochem_idw_n20_p1.png\"\n",
    "plt.savefig(out_path, dpi=300)"
   ]
  },
  {
   "cell_type": "markdown",
   "metadata": {},
   "source": [
    "## 4. Process 1000 Lakes dataset"
   ]
  },
  {
   "cell_type": "markdown",
   "metadata": {},
   "source": [
    "### 4.1 Read 2019 water chemistry"
   ]
  },
  {
   "cell_type": "code",
   "execution_count": null,
   "metadata": {},
   "outputs": [],
   "source": [
    "wc_df = pd.read_csv(r\"../data/metals/1k_lakes/1k_lakes_2019_metals_toc_ph.csv\")\n",
    "del wc_df[\"station_id\"], wc_df[\"station_name\"]\n",
    "stn_df = pd.read_csv(r\"../data/metals/1k_lakes/1k_stations.csv\")\n",
    "del stn_df[\"name\"]\n",
    "wc_df = pd.merge(stn_df, wc_df, how=\"inner\", on=\"station_code\")\n",
    "wc_df.head()"
   ]
  },
  {
   "cell_type": "markdown",
   "metadata": {},
   "source": [
    "### 4.2. Get catchment boundaries\n",
    "\n",
    "The 1000 Lakes catchment boundaries are stored on NIVA's JupyterHub."
   ]
  },
  {
   "cell_type": "code",
   "execution_count": null,
   "metadata": {},
   "outputs": [],
   "source": [
    "# Show projects in database\n",
    "with pd.option_context(\"display.max_colwidth\", -1):\n",
    "    proj_df = nivapy.da.select_jhub_projects(eng)\n",
    "    display(proj_df)"
   ]
  },
  {
   "cell_type": "code",
   "execution_count": null,
   "metadata": {},
   "outputs": [],
   "source": [
    "# Get catchment data for 1000 Lakes 2019\n",
    "_, cat_gdf = nivapy.da.select_jhub_project_catchments([4], eng)\n",
    "\n",
    "cat_gdf.head()"
   ]
  },
  {
   "cell_type": "markdown",
   "metadata": {},
   "source": [
    "## 5. Zonal statistics\n",
    "\n",
    "The code in this section summarises the moss and geochemical datasets for each of the 1000 Lakes catchments."
   ]
  },
  {
   "cell_type": "markdown",
   "metadata": {},
   "source": [
    "### 5.1. Moss data"
   ]
  },
  {
   "cell_type": "code",
   "execution_count": null,
   "metadata": {},
   "outputs": [],
   "source": [
    "df_list = []\n",
    "for par in moss_par_list:\n",
    "    par = par.lower()\n",
    "    ras_path = f\"../data/metals/mosses/moss_{par.lower()}_{year}_mgpkg_idw_n8_p2.tif\"\n",
    "\n",
    "    # Temporary nearest-neighbour resampling to 250 m (as some cacthments are so small that\n",
    "    # they do not contain any cell centres at 1000 m)\n",
    "    data = nivapy.spatial.read_raster(ras_path, band_no=1)[0]\n",
    "    data = nivapy.spatial.rebin_array(data, 4)  # 1000 m to 250 m\n",
    "    tmp_path = \"temp_ras.tif\"\n",
    "    nivapy.spatial.array_to_gtiff(\n",
    "        xmin,\n",
    "        ymax,\n",
    "        250,\n",
    "        tmp_path,\n",
    "        data,\n",
    "        crs.proj4_init,\n",
    "        no_data_value=-9999,\n",
    "        bit_depth=\"Float32\",\n",
    "    )\n",
    "\n",
    "    # Zonal stats\n",
    "    stats = zonal_stats(\n",
    "        cat_gdf[\"geom\"].to_crs(crs.proj4_init), tmp_path, stats=[\"mean\"]\n",
    "    )\n",
    "    stats = pd.DataFrame(stats)\n",
    "    stats.rename({\"mean\": f\"moss_mean_{par}\"}, inplace=True, axis=\"columns\")\n",
    "    df_list.append(stats)\n",
    "\n",
    "    os.remove(tmp_path)\n",
    "\n",
    "moss_stats = pd.concat(df_list, axis=\"columns\")\n",
    "moss_stats[\"station_code\"] = cat_gdf[\"station_code\"]\n",
    "\n",
    "moss_stats.head()"
   ]
  },
  {
   "cell_type": "markdown",
   "metadata": {},
   "source": [
    "### 5.2. Geochemistry data"
   ]
  },
  {
   "cell_type": "code",
   "execution_count": null,
   "metadata": {},
   "outputs": [],
   "source": [
    "df_list = []\n",
    "for par in geol_par_list:\n",
    "    par = par.lower()\n",
    "    ras_path = f\"../data/metals/geochemistry/geochem_{par.lower()}_mgpkg_idw_n20_p1.tif\"\n",
    "\n",
    "    # Temporary nearest-neighbour resampling to 250 m (as some cacthments are so small that\n",
    "    # they do not contain any cell centres at 1000 m)\n",
    "    data = nivapy.spatial.read_raster(ras_path, band_no=1)[0]\n",
    "    data = nivapy.spatial.rebin_array(data, 4)  # 1000 m to 250 m\n",
    "    tmp_path = \"temp_ras.tif\"\n",
    "    nivapy.spatial.array_to_gtiff(\n",
    "        xmin,\n",
    "        ymax,\n",
    "        250,\n",
    "        tmp_path,\n",
    "        data,\n",
    "        crs.proj4_init,\n",
    "        no_data_value=-9999,\n",
    "        bit_depth=\"Float32\",\n",
    "    )\n",
    "\n",
    "    stats = zonal_stats(\n",
    "        cat_gdf[\"geom\"].to_crs(crs.proj4_init), tmp_path, stats=[\"mean\"]\n",
    "    )\n",
    "    stats = pd.DataFrame(stats)\n",
    "    stats.rename({\"mean\": f\"geol_mean_{par}\"}, inplace=True, axis=\"columns\")\n",
    "    df_list.append(stats)\n",
    "\n",
    "    os.remove(tmp_path)\n",
    "\n",
    "geol_stats = pd.concat(df_list, axis=\"columns\")\n",
    "geol_stats[\"station_code\"] = cat_gdf[\"station_code\"]\n",
    "\n",
    "geol_stats.head()"
   ]
  },
  {
   "cell_type": "markdown",
   "metadata": {},
   "source": [
    "## 6. Combine datasets"
   ]
  },
  {
   "cell_type": "code",
   "execution_count": null,
   "metadata": {},
   "outputs": [],
   "source": [
    "# Link water chem, moss and geol datasets\n",
    "stats = pd.merge(moss_stats, geol_stats, how=\"inner\", on=\"station_code\")\n",
    "df = pd.merge(wc_df, stats, how=\"inner\", on=\"station_code\")\n",
    "\n",
    "# Convert pH to [H+]\n",
    "df[\"hp\"] = 10 ** (-df[\"pH_\"])\n",
    "\n",
    "df.head()"
   ]
  },
  {
   "cell_type": "markdown",
   "metadata": {},
   "source": [
    "## 7. Regression\n",
    "\n",
    "Of the 8 metals of interest, only 6 have complete geochemistry data (Cd and Hg are missing). For each of these 6 parameters, the code below first produces scatter plots to hgihlight general relationships & obvious outliers, and then performs \"best subsets\" OLS regression to give a more quantitative assessment of any relationships present. The key question here is:\n",
    "\n",
    " * Can we use **only** the moss and geochemistry datasets as predictors of water quality"
   ]
  },
  {
   "cell_type": "markdown",
   "metadata": {},
   "source": [
    "### 7.1. As"
   ]
  },
  {
   "cell_type": "code",
   "execution_count": null,
   "metadata": {},
   "outputs": [],
   "source": [
    "par = \"As\"\n",
    "\n",
    "cols = [\n",
    "    f\"{par}_µg/l\",\n",
    "    f\"moss_mean_{par.lower()}\",\n",
    "    f\"geol_mean_{par.lower()}\",\n",
    "    \"TOC_mg C/l\",\n",
    "    \"hp\",\n",
    "]\n",
    "reg_df = df[cols].copy()\n",
    "\n",
    "with sn.plotting_context(\"notebook\", font_scale=1.5):\n",
    "    sn.pairplot(\n",
    "        reg_df,\n",
    "        kind=\"reg\",\n",
    "        diag_kind=\"kde\",\n",
    "        plot_kws=dict(lowess=True, line_kws=dict(color=\"red\")),\n",
    "    )"
   ]
  },
  {
   "cell_type": "code",
   "execution_count": null,
   "metadata": {},
   "outputs": [],
   "source": [
    "thresh = 1\n",
    "resp_var = f\"{par}_µg/l\"\n",
    "exp_vars = [f\"moss_mean_{par.lower()}\", f\"geol_mean_{par.lower()}\", \"TOC_mg C/l\", \"hp\"]\n",
    "\n",
    "reg_df = reg_df[reg_df[f\"{par}_µg/l\"] < thresh].reset_index(drop=True)\n",
    "utils.best_subsets_ols_regression(reg_df, resp_var, exp_vars, standardise=True)"
   ]
  },
  {
   "cell_type": "markdown",
   "metadata": {},
   "source": [
    "### 7.2. Cr"
   ]
  },
  {
   "cell_type": "code",
   "execution_count": null,
   "metadata": {},
   "outputs": [],
   "source": [
    "par = \"Cr\"\n",
    "\n",
    "cols = [\n",
    "    f\"{par}_µg/l\",\n",
    "    f\"moss_mean_{par.lower()}\",\n",
    "    f\"geol_mean_{par.lower()}\",\n",
    "    \"TOC_mg C/l\",\n",
    "    \"hp\",\n",
    "]\n",
    "reg_df = df[cols].copy()\n",
    "\n",
    "with sn.plotting_context(\"notebook\", font_scale=1.5):\n",
    "    sn.pairplot(\n",
    "        reg_df,\n",
    "        kind=\"reg\",\n",
    "        diag_kind=\"kde\",\n",
    "        plot_kws=dict(lowess=True, line_kws=dict(color=\"red\")),\n",
    "    )"
   ]
  },
  {
   "cell_type": "code",
   "execution_count": null,
   "metadata": {},
   "outputs": [],
   "source": [
    "thresh = 1\n",
    "resp_var = f\"{par}_µg/l\"\n",
    "exp_vars = [f\"moss_mean_{par.lower()}\", f\"geol_mean_{par.lower()}\", \"TOC_mg C/l\", \"hp\"]\n",
    "\n",
    "reg_df = reg_df[reg_df[f\"{par}_µg/l\"] < thresh].reset_index(drop=True)\n",
    "utils.best_subsets_ols_regression(reg_df, resp_var, exp_vars, standardise=True)"
   ]
  },
  {
   "cell_type": "markdown",
   "metadata": {},
   "source": [
    "### 7.3. Cu"
   ]
  },
  {
   "cell_type": "code",
   "execution_count": null,
   "metadata": {},
   "outputs": [],
   "source": [
    "par = \"Cu\"\n",
    "\n",
    "cols = [\n",
    "    f\"{par}_µg/l\",\n",
    "    f\"moss_mean_{par.lower()}\",\n",
    "    f\"geol_mean_{par.lower()}\",\n",
    "    \"TOC_mg C/l\",\n",
    "    \"hp\",\n",
    "]\n",
    "reg_df = df[cols].copy()\n",
    "\n",
    "with sn.plotting_context(\"notebook\", font_scale=1.5):\n",
    "    sn.pairplot(\n",
    "        reg_df,\n",
    "        kind=\"reg\",\n",
    "        diag_kind=\"kde\",\n",
    "        plot_kws=dict(lowess=True, line_kws=dict(color=\"red\")),\n",
    "    )"
   ]
  },
  {
   "cell_type": "code",
   "execution_count": null,
   "metadata": {},
   "outputs": [],
   "source": [
    "thresh = 7\n",
    "resp_var = f\"{par}_µg/l\"\n",
    "exp_vars = [f\"moss_mean_{par.lower()}\", f\"geol_mean_{par.lower()}\", \"TOC_mg C/l\", \"hp\"]\n",
    "\n",
    "reg_df = reg_df[reg_df[f\"{par}_µg/l\"] < thresh].reset_index(drop=True)\n",
    "utils.best_subsets_ols_regression(reg_df, resp_var, exp_vars, standardise=True)"
   ]
  },
  {
   "cell_type": "markdown",
   "metadata": {},
   "source": [
    "### 7.4. Ni"
   ]
  },
  {
   "cell_type": "code",
   "execution_count": null,
   "metadata": {},
   "outputs": [],
   "source": [
    "par = \"Ni\"\n",
    "\n",
    "cols = [\n",
    "    f\"{par}_µg/l\",\n",
    "    f\"moss_mean_{par.lower()}\",\n",
    "    f\"geol_mean_{par.lower()}\",\n",
    "    \"TOC_mg C/l\",\n",
    "    \"hp\",\n",
    "]\n",
    "reg_df = df[cols].copy()\n",
    "\n",
    "with sn.plotting_context(\"notebook\", font_scale=1.5):\n",
    "    sn.pairplot(\n",
    "        reg_df,\n",
    "        kind=\"reg\",\n",
    "        diag_kind=\"kde\",\n",
    "        plot_kws=dict(lowess=True, line_kws=dict(color=\"red\")),\n",
    "    )"
   ]
  },
  {
   "cell_type": "code",
   "execution_count": null,
   "metadata": {},
   "outputs": [],
   "source": [
    "thresh = 4\n",
    "resp_var = f\"{par}_µg/l\"\n",
    "exp_vars = [f\"moss_mean_{par.lower()}\", f\"geol_mean_{par.lower()}\", \"TOC_mg C/l\", \"hp\"]\n",
    "\n",
    "reg_df = reg_df[reg_df[f\"{par}_µg/l\"] < thresh].reset_index(drop=True)\n",
    "utils.best_subsets_ols_regression(reg_df, resp_var, exp_vars, standardise=True)"
   ]
  },
  {
   "cell_type": "markdown",
   "metadata": {},
   "source": [
    "### 7.5. Pb"
   ]
  },
  {
   "cell_type": "code",
   "execution_count": null,
   "metadata": {},
   "outputs": [],
   "source": [
    "par = \"Pb\"\n",
    "\n",
    "cols = [\n",
    "    f\"{par}_µg/l\",\n",
    "    f\"moss_mean_{par.lower()}\",\n",
    "    f\"geol_mean_{par.lower()}\",\n",
    "    \"TOC_mg C/l\",\n",
    "    \"hp\",\n",
    "]\n",
    "reg_df = df[cols].copy()\n",
    "\n",
    "with sn.plotting_context(\"notebook\", font_scale=1.5):\n",
    "    sn.pairplot(\n",
    "        reg_df,\n",
    "        kind=\"reg\",\n",
    "        diag_kind=\"kde\",\n",
    "        plot_kws=dict(lowess=True, line_kws=dict(color=\"red\")),\n",
    "    )"
   ]
  },
  {
   "cell_type": "code",
   "execution_count": null,
   "metadata": {},
   "outputs": [],
   "source": [
    "thresh = 5\n",
    "resp_var = f\"{par}_µg/l\"\n",
    "exp_vars = [f\"moss_mean_{par.lower()}\", f\"geol_mean_{par.lower()}\", \"TOC_mg C/l\", \"hp\"]\n",
    "\n",
    "reg_df = reg_df[reg_df[f\"{par}_µg/l\"] < thresh].reset_index(drop=True)\n",
    "utils.best_subsets_ols_regression(reg_df, resp_var, exp_vars, standardise=True)\n",
    "\n",
    "\n",
    "png_path = r\"../plots/metals/1k_lakes/ols_regression_pb.png\"\n",
    "plt.savefig(png_path, dpi=300, bbox_inches=\"tight\")"
   ]
  },
  {
   "cell_type": "markdown",
   "metadata": {},
   "source": [
    "### 7.6. Zn"
   ]
  },
  {
   "cell_type": "code",
   "execution_count": null,
   "metadata": {},
   "outputs": [],
   "source": [
    "par = \"Zn\"\n",
    "\n",
    "cols = [\n",
    "    f\"{par}_µg/l\",\n",
    "    f\"moss_mean_{par.lower()}\",\n",
    "    f\"geol_mean_{par.lower()}\",\n",
    "    \"TOC_mg C/l\",\n",
    "    \"hp\",\n",
    "]\n",
    "reg_df = df[cols].copy()\n",
    "\n",
    "with sn.plotting_context(\"notebook\", font_scale=1.5):\n",
    "    sn.pairplot(\n",
    "        reg_df,\n",
    "        kind=\"reg\",\n",
    "        diag_kind=\"kde\",\n",
    "        plot_kws=dict(lowess=True, line_kws=dict(color=\"red\")),\n",
    "    )"
   ]
  },
  {
   "cell_type": "code",
   "execution_count": null,
   "metadata": {},
   "outputs": [],
   "source": [
    "thresh = 20\n",
    "resp_var = f\"{par}_µg/l\"\n",
    "exp_vars = [f\"moss_mean_{par.lower()}\", f\"geol_mean_{par.lower()}\", \"TOC_mg C/l\", \"hp\"]\n",
    "\n",
    "reg_df = reg_df[reg_df[f\"{par}_µg/l\"] < thresh].reset_index(drop=True)\n",
    "utils.best_subsets_ols_regression(reg_df, resp_var, exp_vars, standardise=True)"
   ]
  },
  {
   "cell_type": "markdown",
   "metadata": {},
   "source": [
    "## 8. Summary\n",
    "\n",
    "The relationships identified above are much more robust than those obtained using the 1995 1000 Lakes dataset: all relationships are highly statistically significant and most  are physically plausible. However, the explanatory power for several of the metals is poor (i.e. the effect size is small/negligible). Furthermore, in most cases the effects of **other water chemistry parameters (especially TOC concentration) are more important than either the moss or geochemistry variables**. This is problematic, because TEOTIL enforces a simple conceptual framework that is incapable of representing such \"process-based\" or \"mechanistic\" effects. \n",
    "\n",
    "**Note:** Similar problems have been documented previously for the original TEOTIL model when simulating phosphorus: because a significant fraction of the P-load is typically bound to particulates, the model performs poorly compared to nitrogen (where most of the flux is dissolved).\n",
    "\n",
    "This notebook highlights the following problems/challenges with developing TEOTIL2 Metals:\n",
    "\n",
    " * The geochemistry dataset only includes values for **six out of eight** metals of interest\n",
    " \n",
    " * Although the moss suveys take place every five years, the number of data points has reduced substantially since 2005. Data for Hg are missing from the 1990 survey and, furthermore, in surveys prior to 2005 detection limits were substantially higher (similar to the 1995 1000 Lakes survey)\n",
    " \n",
    " * The statistical analysis required to identify export coefficients for the model identifies **significant but weak** relationships, where the best predictors are usually other water chemistry variables (pH and TOC) and **not** the moss or geochemistry datasets. Since we do not have national scale datasets of pH and TOC through time (the \"1000 Lakes\" are 20 years apart), it is not possible to use these relationships effectively. Furthermore, relationships restricted to using only the moss and geochemistry datasets are *very* poor\n",
    " \n",
    "With these points in mind, **I do not think it is sensible to continue development of TEOTIL2 Metals in this direction**, at least for the moment. Instead, I will explore an alternative solution that makes better use of the 2019 1000 Lakes dataset."
   ]
  }
 ],
 "metadata": {
  "kernelspec": {
   "display_name": "Python 3",
   "language": "python",
   "name": "python3"
  },
  "language_info": {
   "codemirror_mode": {
    "name": "ipython",
    "version": 3
   },
   "file_extension": ".py",
   "mimetype": "text/x-python",
   "name": "python",
   "nbconvert_exporter": "python",
   "pygments_lexer": "ipython3",
   "version": "3.8.5"
  }
 },
 "nbformat": 4,
 "nbformat_minor": 4
}
