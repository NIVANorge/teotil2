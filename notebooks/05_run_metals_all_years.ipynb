{
 "cells": [
  {
   "cell_type": "code",
   "execution_count": 1,
   "metadata": {},
   "outputs": [],
   "source": [
    "import os\n",
    "import warnings\n",
    "\n",
    "import nivapy3 as nivapy\n",
    "import pandas as pd\n",
    "import teotil2 as teo\n",
    "\n",
    "warnings.simplefilter(\"ignore\")"
   ]
  },
  {
   "cell_type": "markdown",
   "metadata": {},
   "source": [
    "# TEOTIL2 tutorial 05: Multi-year runs (for metals)\n",
    "\n",
    "This notebook is identical to [Tutorial 03](https://nbviewer.jupyter.org/github/NIVANorge/teotil2/blob/main/notebooks/03_run_nutrients_all_years.ipynb), but this time running the model in `metals` mode. The code runs TEOTIL2 Metals for a user-specified range of years. \n",
    "\n",
    "Note that, as before, generating the input files **requires an active connection to the Nivabase**."
   ]
  },
  {
   "cell_type": "code",
   "execution_count": 2,
   "metadata": {},
   "outputs": [
    {
     "name": "stdin",
     "output_type": "stream",
     "text": [
      "Username:  ···\n",
      "Password:  ········\n"
     ]
    },
    {
     "name": "stdout",
     "output_type": "stream",
     "text": [
      "Connection successful.\n"
     ]
    }
   ],
   "source": [
    "# Connect to db\n",
    "eng = nivapy.da.connect()"
   ]
  },
  {
   "cell_type": "markdown",
   "metadata": {},
   "source": [
    "## 1. User input"
   ]
  },
  {
   "cell_type": "code",
   "execution_count": 3,
   "metadata": {},
   "outputs": [],
   "source": [
    "# Years of interest\n",
    "st_yr = 1990\n",
    "end_yr = 2019\n",
    "\n",
    "# Parameters of interest\n",
    "par_list = [\"As\", \"Cd\", \"Cr\", \"Cu\", \"Hg\", \"Ni\", \"Pb\", \"Zn\"]\n",
    "\n",
    "# Folder containing core data\n",
    "data_fold = r\"../data/core_input_data\"\n",
    "\n",
    "# Folder for annual model input files\n",
    "ann_input_fold = r\"../data/norway_annual_input_data\"\n",
    "\n",
    "# Folder for annual model output files\n",
    "ann_output_fold = r\"../data/norway_annual_output_data\""
   ]
  },
  {
   "cell_type": "markdown",
   "metadata": {},
   "source": [
    "## 2. Run model\n",
    "\n",
    "Each year in TEOTIL2 is treated independently, so a multi-year run is simply a loop over the individual years. This is much more feasible with TEOTIL2 than previously, due to the new model's improved computational performance."
   ]
  },
  {
   "cell_type": "code",
   "execution_count": 4,
   "metadata": {},
   "outputs": [
    {
     "name": "stdout",
     "output_type": "stream",
     "text": [
      "Processing: 1990\n",
      "    No renseanlegg data for 1990.\n",
      "Processing: 1991\n",
      "    No renseanlegg data for 1991.\n",
      "Processing: 1992\n",
      "    No renseanlegg data for 1992.\n",
      "Processing: 1993\n",
      "    No renseanlegg data for As in 1993.\n",
      "    No renseanlegg data for Cd in 1993.\n",
      "    No renseanlegg data for Cr in 1993.\n",
      "    No renseanlegg data for Cu in 1993.\n",
      "    No renseanlegg data for Hg in 1993.\n",
      "    No renseanlegg data for Ni in 1993.\n",
      "    No renseanlegg data for Pb in 1993.\n",
      "    No renseanlegg data for Zn in 1993.\n",
      "Processing: 1994\n",
      "    No renseanlegg data for As in 1994.\n",
      "    No renseanlegg data for Cd in 1994.\n",
      "    No renseanlegg data for Cr in 1994.\n",
      "    No renseanlegg data for Cu in 1994.\n",
      "    No renseanlegg data for Hg in 1994.\n",
      "    No renseanlegg data for Ni in 1994.\n",
      "    No renseanlegg data for Pb in 1994.\n",
      "    No renseanlegg data for Zn in 1994.\n",
      "Processing: 1995\n",
      "    No renseanlegg data for As in 1995.\n",
      "    No renseanlegg data for Cd in 1995.\n",
      "    No renseanlegg data for Cr in 1995.\n",
      "    No renseanlegg data for Cu in 1995.\n",
      "    No renseanlegg data for Hg in 1995.\n",
      "    No renseanlegg data for Ni in 1995.\n",
      "    No renseanlegg data for Pb in 1995.\n",
      "    No renseanlegg data for Zn in 1995.\n",
      "Processing: 1996\n",
      "    No renseanlegg data for As in 1996.\n",
      "    No renseanlegg data for Cd in 1996.\n",
      "    No renseanlegg data for Cr in 1996.\n",
      "    No renseanlegg data for Cu in 1996.\n",
      "    No renseanlegg data for Hg in 1996.\n",
      "    No renseanlegg data for Ni in 1996.\n",
      "    No renseanlegg data for Pb in 1996.\n",
      "    No renseanlegg data for Zn in 1996.\n",
      "Processing: 1997\n",
      "    No renseanlegg data for As in 1997.\n",
      "    No renseanlegg data for Cd in 1997.\n",
      "    No renseanlegg data for Cr in 1997.\n",
      "    No renseanlegg data for Cu in 1997.\n",
      "    No renseanlegg data for Hg in 1997.\n",
      "    No renseanlegg data for Ni in 1997.\n",
      "    No renseanlegg data for Pb in 1997.\n",
      "    No renseanlegg data for Zn in 1997.\n",
      "Processing: 1998\n",
      "    No renseanlegg data for As in 1998.\n",
      "    No renseanlegg data for Cd in 1998.\n",
      "    No renseanlegg data for Cr in 1998.\n",
      "    No renseanlegg data for Cu in 1998.\n",
      "    No renseanlegg data for Hg in 1998.\n",
      "    No renseanlegg data for Ni in 1998.\n",
      "    No renseanlegg data for Pb in 1998.\n",
      "    No renseanlegg data for Zn in 1998.\n",
      "Processing: 1999\n",
      "    No renseanlegg data for As in 1999.\n",
      "    No renseanlegg data for Cd in 1999.\n",
      "    No renseanlegg data for Cr in 1999.\n",
      "    No renseanlegg data for Cu in 1999.\n",
      "    No renseanlegg data for Hg in 1999.\n",
      "    No renseanlegg data for Ni in 1999.\n",
      "    No renseanlegg data for Pb in 1999.\n",
      "    No renseanlegg data for Zn in 1999.\n",
      "Processing: 2000\n",
      "    No renseanlegg data for As in 2000.\n",
      "    No renseanlegg data for Cd in 2000.\n",
      "    No renseanlegg data for Cr in 2000.\n",
      "    No renseanlegg data for Cu in 2000.\n",
      "    No renseanlegg data for Hg in 2000.\n",
      "    No renseanlegg data for Ni in 2000.\n",
      "    No renseanlegg data for Pb in 2000.\n",
      "    No renseanlegg data for Zn in 2000.\n",
      "Processing: 2001\n",
      "    No renseanlegg data for As in 2001.\n",
      "    No renseanlegg data for Cd in 2001.\n",
      "    No renseanlegg data for Cr in 2001.\n",
      "    No renseanlegg data for Cu in 2001.\n",
      "    No renseanlegg data for Hg in 2001.\n",
      "    No renseanlegg data for Ni in 2001.\n",
      "    No renseanlegg data for Pb in 2001.\n",
      "    No renseanlegg data for Zn in 2001.\n",
      "Processing: 2002\n",
      "    No renseanlegg data for As in 2002.\n",
      "Processing: 2003\n",
      "    No renseanlegg data for As in 2003.\n",
      "Processing: 2004\n",
      "    No renseanlegg data for As in 2004.\n",
      "Processing: 2005\n",
      "Processing: 2006\n",
      "Processing: 2007\n",
      "Processing: 2008\n",
      "Processing: 2009\n",
      "Processing: 2010\n",
      "Processing: 2011\n",
      "Processing: 2012\n",
      "Processing: 2013\n",
      "    No renseanlegg data for Cr in 2013.\n",
      "Processing: 2014\n",
      "Processing: 2015\n",
      "Processing: 2016\n",
      "Processing: 2017\n",
      "Processing: 2018\n",
      "Processing: 2019\n"
     ]
    }
   ],
   "source": [
    "# Loop over years\n",
    "for year in range(st_yr, end_yr + 1):\n",
    "    print(\"Processing:\", year)\n",
    "\n",
    "    # Make input file\n",
    "    csv_path = os.path.join(ann_input_fold, f\"metals_input_data_{year}.csv\")\n",
    "    df = teo.io.make_input_file(\n",
    "        year,\n",
    "        eng,\n",
    "        data_fold,\n",
    "        csv_path,\n",
    "        mode=\"metals\",\n",
    "        par_list=par_list,\n",
    "    )\n",
    "\n",
    "    # Run model\n",
    "    g = teo.model.run_model(csv_path)\n",
    "\n",
    "    # Save results\n",
    "    out_csv = os.path.join(ann_output_fold, f\"teotil2_metals_results_{year}.csv\")\n",
    "    df = teo.model.model_to_dataframe(g, out_path=out_csv)"
   ]
  }
 ],
 "metadata": {
  "kernelspec": {
   "display_name": "Python 3",
   "language": "python",
   "name": "python3"
  },
  "language_info": {
   "codemirror_mode": {
    "name": "ipython",
    "version": 3
   },
   "file_extension": ".py",
   "mimetype": "text/x-python",
   "name": "python",
   "nbconvert_exporter": "python",
   "pygments_lexer": "ipython3",
   "version": "3.8.5"
  }
 },
 "nbformat": 4,
 "nbformat_minor": 4
}
