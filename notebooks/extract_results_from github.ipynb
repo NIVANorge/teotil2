{
 "cells": [
  {
   "cell_type": "code",
   "execution_count": 1,
   "id": "a2d4d53f-2f9f-448a-aa33-92c097444b21",
   "metadata": {},
   "outputs": [],
   "source": [
    "import matplotlib.pyplot as plt\n",
    "import pandas as pd\n",
    "import seaborn as sn\n",
    "\n",
    "plt.style.use(\"ggplot\")"
   ]
  },
  {
   "cell_type": "markdown",
   "id": "bfb49a4a-b350-4216-83f2-01b0181b6cbc",
   "metadata": {},
   "source": [
    "# Get TEOTIL2 data from GitHub\n",
    "\n",
    "Reads TEOTIL2 results CSVs from GitHub for specified vassdragsområder and creates simplified Excel files. Useful for sharing TEOTIL2 data for particular regions."
   ]
  },
  {
   "cell_type": "code",
   "execution_count": 2,
   "id": "5ecadb15-c1a6-4d7b-8c6d-bc608c615941",
   "metadata": {},
   "outputs": [],
   "source": [
    "# Period of interest\n",
    "st_yr = 2015\n",
    "end_yr = 2019\n",
    "\n",
    "# Vassdragsområder of interest\n",
    "vassoms = [f\"{i:03d}.\" for i in range(1, 26)]\n",
    "\n",
    "# Output Excel file\n",
    "out_xlsx = None  # r\"teotil2_vassom001-017_1990-2021.xlsx\""
   ]
  },
  {
   "cell_type": "code",
   "execution_count": 3,
   "id": "ff0e9d00-d368-4f9c-a828-0f94da98a20d",
   "metadata": {},
   "outputs": [],
   "source": [
    "df_list = []\n",
    "for year in range(st_yr, end_yr + 1):\n",
    "    url = f\"https://raw.githubusercontent.com/NIVANorge/teotil2/main/data/norway_annual_output_data/teotil2_results_{year}.csv\"\n",
    "    df = pd.read_csv(url)\n",
    "    index_cols = [\"regine\", \"regine_ned\", \"year\", \"vassom\"]\n",
    "    other_cols = [col for col in df.columns if col not in index_cols]\n",
    "    df[\"year\"] = year\n",
    "    df[\"vassom\"] = df[\"regine\"].str[:4]\n",
    "    df = df[index_cols + other_cols]\n",
    "    df = df.query(\"vassom in @vassoms\").round(2)\n",
    "    df_list.append(df)\n",
    "\n",
    "df = pd.concat(df_list)\n",
    "df.sort_values([\"regine\", \"year\"], inplace=True)\n",
    "vassom_df = df.query(\"regine in @vassoms\")\n",
    "del df[\"vassom\"], vassom_df[\"vassom\"]\n",
    "\n",
    "if out_xlsx:\n",
    "    # Write output\n",
    "    with pd.ExcelWriter(out_xlsx) as writer:\n",
    "        df.to_excel(writer, sheet_name=\"all_regines\", index=False)\n",
    "        vassom_df.to_excel(writer, sheet_name=\"vassom_only\", index=False)"
   ]
  },
  {
   "cell_type": "markdown",
   "id": "7e6784ea-ce2f-4751-ae02-7b7d5c3c32d0",
   "metadata": {},
   "source": [
    "# Stacked bar charts showing proportions by source"
   ]
  },
  {
   "cell_type": "code",
   "execution_count": 4,
   "id": "8910f4d0-eb7d-4d3e-a9bd-b058c849a134",
   "metadata": {
    "tags": []
   },
   "outputs": [],
   "source": [
    "def proportions_by_source(vassom_df, pars, srcs):\n",
    "    \"\"\"For each vassdragsområde in 'vassom_df', estimate the percentage contribution from each\n",
    "    source in 'srcs'.\n",
    "\n",
    "    Args\n",
    "        vassom_df: Dataframe. TEOTIL2 results for vassdragsområder of interest\n",
    "        pars: List of str. Parameters to consider. One or more of ['tot-n', 'tot-p']\n",
    "        srcs: List of str. Sources to consider. One or more of\n",
    "            [\"agri\", \"aqu\", \"ind\", \"nat-diff\", \"ren\", \"spr\", \"urban\"]\n",
    "\n",
    "    Returns\n",
    "        Dataframe.\n",
    "    \"\"\"\n",
    "    # Select columns of interest\n",
    "    cols = [\"regine\", \"year\"] + [\n",
    "        col for col in vassom_df.columns if col.startswith(\"accum\")\n",
    "    ]\n",
    "    vassom_df = vassom_df[cols].copy()\n",
    "    vassom_df.columns = [\n",
    "        col.replace(\"nat_diff\", \"nat-diff\") for col in vassom_df.columns\n",
    "    ]\n",
    "\n",
    "    # Combine point and diffuse from agri\n",
    "    for par in pars:\n",
    "        agri_cols = [f\"accum_agri_diff_{par}_tonnes\", f\"accum_agri_pt_{par}_tonnes\"]\n",
    "        vassom_df[f\"accum_agri_{par}_tonnes\"] = vassom_df[agri_cols].sum(axis=1)\n",
    "        vassom_df.drop(columns=agri_cols, inplace=True)\n",
    "\n",
    "    # Calculate percentages for cols of interest\n",
    "    for par in pars:\n",
    "        for src in srcs:\n",
    "            vassom_df[f\"{src}_{par}_pct\"] = (\n",
    "                100\n",
    "                * vassom_df[f\"accum_{src}_{par}_tonnes\"]\n",
    "                / vassom_df[f\"accum_all_sources_{par}_tonnes\"]\n",
    "            )\n",
    "\n",
    "    # Select percentage columns\n",
    "    cols = [\"regine\", \"year\"] + [\n",
    "        col for col in vassom_df.columns if col.endswith(\"pct\")\n",
    "    ]\n",
    "    vassom_df = vassom_df[cols]\n",
    "\n",
    "    # Group by 'regine' and calculate mean\n",
    "    vassom_df = vassom_df.groupby([\"regine\"]).mean(numeric_only=True).reset_index()\n",
    "    del vassom_df[\"year\"]\n",
    "\n",
    "    # Melt dataframe and split 'variable' into 'source' and 'parameter'\n",
    "    vassom_df = vassom_df.melt(id_vars=\"regine\")\n",
    "    vassom_df[[\"source\", \"parameter\"]] = vassom_df[\"variable\"].str.split(\n",
    "        \"_\", n=2, expand=True\n",
    "    )[[0, 1]]\n",
    "    vassom_df.drop(columns=\"variable\", inplace=True)\n",
    "\n",
    "    # Rename 'value' to 'proportion_pct' and reorder columns\n",
    "    vassom_df.rename({\"value\": \"proportion_pct\"}, axis=\"columns\", inplace=True)\n",
    "    vassom_df = vassom_df[[\"regine\", \"parameter\", \"source\", \"proportion_pct\"]]\n",
    "\n",
    "    # Tidy\n",
    "    vassom_df = vassom_df.sort_values([\"regine\", \"parameter\", \"source\"]).reset_index(drop=True)\n",
    "    vassom_df[\"proportion_pct\"] = vassom_df[\"proportion_pct\"].round(1)\n",
    "\n",
    "    return vassom_df\n",
    "\n",
    "\n",
    "def plot_stacked_bar_charts(prop_df):\n",
    "    \"\"\"Create a stacked bar chart showing nutrient source proportion by vassdragsområde.\n",
    "\n",
    "    Args\n",
    "        prop_df: dataframe. As returned by 'proportions_by_source'\n",
    "\n",
    "    Returns\n",
    "        None. Plot is created.\n",
    "    \"\"\"\n",
    "    # Pivot the DataFrame to get the data in the right format\n",
    "    df_pivot = prop_df.pivot_table(\n",
    "        index=[\"regine\", \"parameter\"],\n",
    "        columns=\"source\",\n",
    "        values=\"proportion_pct\",\n",
    "        fill_value=0,\n",
    "    )\n",
    "\n",
    "    # Get the list of parameters\n",
    "    parameters = prop_df[\"parameter\"].unique()\n",
    "\n",
    "    # For each parameter, create a subplot\n",
    "    for i, parameter in enumerate(parameters):\n",
    "        plt.figure(i)\n",
    "        df_subset = df_pivot.xs(parameter, level=\"parameter\")\n",
    "        ax = df_subset.plot(kind=\"bar\", stacked=True, figsize=(8, 4))\n",
    "        plt.title(parameter.upper())\n",
    "        plt.ylabel(\"Proportion (%)\")\n",
    "        plt.xlabel(\"Vassdragsområde\")\n",
    "        plt.tight_layout()\n",
    "        ax.legend(loc=\"center left\", bbox_to_anchor=(1, 0.5))"
   ]
  },
  {
   "cell_type": "code",
   "execution_count": 5,
   "id": "39bbf9fb-0de1-49d6-9e4c-f988d275e9e1",
   "metadata": {
    "tags": []
   },
   "outputs": [],
   "source": [
    "# User input\n",
    "pars = [\"tot-n\", \"tot-p\"]\n",
    "srcs = [\"agri\", \"aqu\", \"ind\", \"nat-diff\", \"ren\", \"spr\", \"urban\"]\n",
    "prop_csv = f\"/home/jovyan/projects/oslofjord_modelling/baseline-terrestrial-inputs/data/vassom_props_by_src_{st_yr}-{end_yr}.csv\""
   ]
  },
  {
   "cell_type": "code",
   "execution_count": 6,
   "id": "daefcd48-8dc5-4832-8dfb-6d9040071216",
   "metadata": {},
   "outputs": [
    {
     "data": {
      "text/html": [
       "<div>\n",
       "<style scoped>\n",
       "    .dataframe tbody tr th:only-of-type {\n",
       "        vertical-align: middle;\n",
       "    }\n",
       "\n",
       "    .dataframe tbody tr th {\n",
       "        vertical-align: top;\n",
       "    }\n",
       "\n",
       "    .dataframe thead th {\n",
       "        text-align: right;\n",
       "    }\n",
       "</style>\n",
       "<table border=\"1\" class=\"dataframe\">\n",
       "  <thead>\n",
       "    <tr style=\"text-align: right;\">\n",
       "      <th></th>\n",
       "      <th>regine</th>\n",
       "      <th>parameter</th>\n",
       "      <th>source</th>\n",
       "      <th>proportion_pct</th>\n",
       "    </tr>\n",
       "  </thead>\n",
       "  <tbody>\n",
       "    <tr>\n",
       "      <th>0</th>\n",
       "      <td>001.</td>\n",
       "      <td>tot-n</td>\n",
       "      <td>agri</td>\n",
       "      <td>38.3</td>\n",
       "    </tr>\n",
       "    <tr>\n",
       "      <th>1</th>\n",
       "      <td>001.</td>\n",
       "      <td>tot-n</td>\n",
       "      <td>aqu</td>\n",
       "      <td>0.0</td>\n",
       "    </tr>\n",
       "    <tr>\n",
       "      <th>2</th>\n",
       "      <td>001.</td>\n",
       "      <td>tot-n</td>\n",
       "      <td>ind</td>\n",
       "      <td>6.7</td>\n",
       "    </tr>\n",
       "    <tr>\n",
       "      <th>3</th>\n",
       "      <td>001.</td>\n",
       "      <td>tot-n</td>\n",
       "      <td>nat-diff</td>\n",
       "      <td>36.0</td>\n",
       "    </tr>\n",
       "    <tr>\n",
       "      <th>4</th>\n",
       "      <td>001.</td>\n",
       "      <td>tot-n</td>\n",
       "      <td>ren</td>\n",
       "      <td>15.5</td>\n",
       "    </tr>\n",
       "    <tr>\n",
       "      <th>5</th>\n",
       "      <td>001.</td>\n",
       "      <td>tot-n</td>\n",
       "      <td>spr</td>\n",
       "      <td>2.9</td>\n",
       "    </tr>\n",
       "    <tr>\n",
       "      <th>6</th>\n",
       "      <td>001.</td>\n",
       "      <td>tot-n</td>\n",
       "      <td>urban</td>\n",
       "      <td>0.6</td>\n",
       "    </tr>\n",
       "    <tr>\n",
       "      <th>7</th>\n",
       "      <td>001.</td>\n",
       "      <td>tot-p</td>\n",
       "      <td>agri</td>\n",
       "      <td>29.5</td>\n",
       "    </tr>\n",
       "    <tr>\n",
       "      <th>8</th>\n",
       "      <td>001.</td>\n",
       "      <td>tot-p</td>\n",
       "      <td>aqu</td>\n",
       "      <td>0.0</td>\n",
       "    </tr>\n",
       "    <tr>\n",
       "      <th>9</th>\n",
       "      <td>001.</td>\n",
       "      <td>tot-p</td>\n",
       "      <td>ind</td>\n",
       "      <td>28.5</td>\n",
       "    </tr>\n",
       "  </tbody>\n",
       "</table>\n",
       "</div>"
      ],
      "text/plain": [
       "  regine parameter    source  proportion_pct\n",
       "0   001.     tot-n      agri            38.3\n",
       "1   001.     tot-n       aqu             0.0\n",
       "2   001.     tot-n       ind             6.7\n",
       "3   001.     tot-n  nat-diff            36.0\n",
       "4   001.     tot-n       ren            15.5\n",
       "5   001.     tot-n       spr             2.9\n",
       "6   001.     tot-n     urban             0.6\n",
       "7   001.     tot-p      agri            29.5\n",
       "8   001.     tot-p       aqu             0.0\n",
       "9   001.     tot-p       ind            28.5"
      ]
     },
     "execution_count": 6,
     "metadata": {},
     "output_type": "execute_result"
    }
   ],
   "source": [
    "# Get proportions\n",
    "prop_df = proportions_by_source(vassom_df, pars, srcs)\n",
    "prop_df.to_csv(prop_csv, index=False)\n",
    "\n",
    "prop_df.head(10)"
   ]
  },
  {
   "cell_type": "code",
   "execution_count": 7,
   "id": "fa84b770-2e38-4553-ab3e-8f7a78e11ff5",
   "metadata": {
    "tags": []
   },
   "outputs": [
    {
     "name": "stdout",
     "output_type": "stream",
     "text": [
      "Mean nutrient proportions by source and vassdragsområde from 2015 - 2019:\n"
     ]
    },
    {
     "data": {
      "text/plain": [
       "<Figure size 640x480 with 0 Axes>"
      ]
     },
     "metadata": {},
     "output_type": "display_data"
    },
    {
     "data": {
      "image/png": "[encoded data removed]",
      "text/plain": [
       "<Figure size 800x400 with 1 Axes>"
      ]
     },
     "metadata": {},
     "output_type": "display_data"
    },
    {
     "data": {
      "image/png": "[encoded data removed]",
      "text/plain": [
       "<Figure size 800x400 with 1 Axes>"
      ]
     },
     "metadata": {},
     "output_type": "display_data"
    }
   ],
   "source": [
    "# Plot\n",
    "print(f\"Mean nutrient proportions by source and vassdragsområde from {st_yr} - {end_yr}:\")\n",
    "plot_stacked_bar_charts(prop_df)"
   ]
  }
 ],
 "metadata": {
  "kernelspec": {
   "display_name": "Python 3 (ipykernel)",
   "language": "python",
   "name": "python3"
  },
  "language_info": {
   "codemirror_mode": {
    "name": "ipython",
    "version": 3
   },
   "file_extension": ".py",
   "mimetype": "text/x-python",
   "name": "python",
   "nbconvert_exporter": "python",
   "pygments_lexer": "ipython3",
   "version": "3.10.11"
  }
 },
 "nbformat": 4,
 "nbformat_minor": 5
}
