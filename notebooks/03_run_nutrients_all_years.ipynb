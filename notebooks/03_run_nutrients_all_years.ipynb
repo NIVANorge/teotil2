{
 "cells": [
  {
   "cell_type": "code",
   "execution_count": null,
   "metadata": {},
   "outputs": [],
   "source": [
    "import os\n",
    "import warnings\n",
    "\n",
    "import nivapy3 as nivapy\n",
    "import pandas as pd\n",
    "import teotil2 as teo\n",
    "\n",
    "warnings.simplefilter(\"ignore\")"
   ]
  },
  {
   "cell_type": "markdown",
   "metadata": {},
   "source": [
    "# TEOTIL2 tutorial 03: Multi-year runs (for N and P)\n",
    "\n",
    "This notebook runs the TEOTIL2 model in `nutrients` mode for a user-specified range of years. Note that generating the input files **requires an active connection to the Nivabase**."
   ]
  },
  {
   "cell_type": "code",
   "execution_count": null,
   "metadata": {},
   "outputs": [],
   "source": [
    "# Connect to db\n",
    "eng = nivapy.da.connect()"
   ]
  },
  {
   "cell_type": "markdown",
   "metadata": {},
   "source": [
    "## 1. User input"
   ]
  },
  {
   "cell_type": "code",
   "execution_count": null,
   "metadata": {},
   "outputs": [],
   "source": [
    "# Years of interest\n",
    "st_yr = 1990\n",
    "end_yr = 2020\n",
    "\n",
    "# Parameters of interest\n",
    "par_list = [\"Tot-N\", \"Tot-P\"]\n",
    "\n",
    "# Folder containing core data\n",
    "data_fold = r\"../data/core_input_data\"\n",
    "\n",
    "# Folder for annual model input files\n",
    "ann_input_fold = r\"../data/norway_annual_input_data\"\n",
    "\n",
    "# Folder for annual model output files\n",
    "ann_output_fold = r\"../data/norway_annual_output_data\""
   ]
  },
  {
   "cell_type": "markdown",
   "metadata": {},
   "source": [
    "## 2. Run model\n",
    "\n",
    "Each year in TEOTIL2 is treated independently, so a multi-year run is simply a loop over the individual years. This is much more feasible with TEOTIL2 than previously, due to the new model's improved computational performance."
   ]
  },
  {
   "cell_type": "code",
   "execution_count": null,
   "metadata": {},
   "outputs": [],
   "source": [
    "# Loop over years\n",
    "for year in range(st_yr, end_yr + 1):\n",
    "    print(\"Processing:\", year)\n",
    "\n",
    "    # Make input file\n",
    "    csv_path = os.path.join(ann_input_fold, f\"input_data_{year}.csv\")\n",
    "    df = teo.io.make_input_file(\n",
    "        year,\n",
    "        eng,\n",
    "        data_fold,\n",
    "        csv_path,\n",
    "        mode='nutrients',\n",
    "        par_list=par_list,\n",
    "    )\n",
    "\n",
    "    # Run model\n",
    "    g = teo.model.run_model(csv_path)\n",
    "\n",
    "    # Save results\n",
    "    out_csv = os.path.join(ann_output_fold, f\"teotil2_results_{year}.csv\")\n",
    "    df = teo.model.model_to_dataframe(g, out_path=out_csv)"
   ]
  }
 ],
 "metadata": {
  "kernelspec": {
   "display_name": "Python 3 (ipykernel)",
   "language": "python",
   "name": "python3"
  },
  "language_info": {
   "codemirror_mode": {
    "name": "ipython",
    "version": 3
   },
   "file_extension": ".py",
   "mimetype": "text/x-python",
   "name": "python",
   "nbconvert_exporter": "python",
   "pygments_lexer": "ipython3",
   "version": "3.9.7"
  }
 },
 "nbformat": 4,
 "nbformat_minor": 4
}
