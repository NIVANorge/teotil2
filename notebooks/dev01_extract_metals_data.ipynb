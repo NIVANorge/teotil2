{
 "cells": [
  {
   "cell_type": "code",
   "execution_count": null,
   "metadata": {},
   "outputs": [],
   "source": [
    "import nivapy3 as nivapy\n",
    "import pandas as pd"
   ]
  },
  {
   "cell_type": "code",
   "execution_count": null,
   "metadata": {},
   "outputs": [],
   "source": [
    "# Connect to db\n",
    "ora_eng = nivapy.da.connect(src=\"nivabase\")"
   ]
  },
  {
   "cell_type": "code",
   "execution_count": null,
   "metadata": {},
   "outputs": [],
   "source": [
    "# Group point inputs by regine\n",
    "sql = (\n",
    "    \"SELECT a.regine, \"\n",
    "    \"  a.type, \"\n",
    "    \"  c.year, \"\n",
    "    \"  b.name, \"\n",
    "    \"  b.unit, \"\n",
    "    \"  SUM(c.value * d.factor) as value \"\n",
    "    \"FROM RESA2.RID_PUNKTKILDER a, \"\n",
    "    \"RESA2.RID_PUNKTKILDER_OUTPAR_DEF b, \"\n",
    "    \"RESA2.RID_PUNKTKILDER_INPAR_VALUES c, \"\n",
    "    \"RESA2.RID_PUNKTKILDER_INP_OUTP d \"\n",
    "    \"WHERE a.anlegg_nr = c.anlegg_nr \"\n",
    "    \"AND d.in_pid = c.inp_par_id \"\n",
    "    \"AND d.out_pid = b.out_pid \"\n",
    "    \"GROUP BY a.regine, a.type, c.year, b.name, b.unit \"\n",
    "    \"ORDER BY a.regine, a.type, c.year, b.name\"\n",
    ")\n",
    "df = pd.read_sql(sql, ora_eng)\n",
    "\n",
    "# Just data of interest\n",
    "par_list = [\"As\", \"Cd\", \"Cr\", \"Cu\", \"Hg\", \"Ni\", \"Pb\", \"Zn\"]\n",
    "df.dropna(subset=[\"regine\"], inplace=True)\n",
    "df = df.query(\"name in @par_list\")\n",
    "\n",
    "# Save\n",
    "pt_csv = r\"../data/metals/point_discharges/regine_pt_dis_metals.csv\"\n",
    "df.to_csv(pt_csv, index=False)"
   ]
  }
 ],
 "metadata": {
  "kernelspec": {
   "display_name": "Python 3",
   "language": "python",
   "name": "python3"
  },
  "language_info": {
   "codemirror_mode": {
    "name": "ipython",
    "version": 3
   },
   "file_extension": ".py",
   "mimetype": "text/x-python",
   "name": "python",
   "nbconvert_exporter": "python",
   "pygments_lexer": "ipython3",
   "version": "3.8.5"
  }
 },
 "nbformat": 4,
 "nbformat_minor": 4
}
