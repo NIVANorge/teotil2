{
 "cells": [
  {
   "cell_type": "code",
   "execution_count": 1,
   "metadata": {},
   "outputs": [],
   "source": [
    "import nivapy3 as nivapy\n",
    "import pandas as pd"
   ]
  },
  {
   "cell_type": "code",
   "execution_count": 2,
   "metadata": {},
   "outputs": [
    {
     "name": "stdin",
     "output_type": "stream",
     "text": [
      "Username:  ···\n",
      "Password:  ········\n"
     ]
    },
    {
     "name": "stdout",
     "output_type": "stream",
     "text": [
      "Connection successful.\n"
     ]
    }
   ],
   "source": [
    "# Connect to db\n",
    "ora_eng = nivapy.da.connect(src=\"nivabase\")"
   ]
  },
  {
   "cell_type": "code",
   "execution_count": null,
   "metadata": {},
   "outputs": [],
   "source": [
    "# Group point inputs by regine\n",
    "sql = (\n",
    "    \"SELECT a.regine, \"\n",
    "    \"  a.type, \"\n",
    "    \"  c.year, \"\n",
    "    \"  b.name, \"\n",
    "    \"  b.unit, \"\n",
    "    \"  SUM(c.value * d.factor) as value \"\n",
    "    \"FROM RESA2.RID_PUNKTKILDER a, \"\n",
    "    \"RESA2.RID_PUNKTKILDER_OUTPAR_DEF b, \"\n",
    "    \"RESA2.RID_PUNKTKILDER_INPAR_VALUES c, \"\n",
    "    \"RESA2.RID_PUNKTKILDER_INP_OUTP d \"\n",
    "    \"WHERE a.anlegg_nr = c.anlegg_nr \"\n",
    "    \"AND d.in_pid = c.inp_par_id \"\n",
    "    \"AND d.out_pid = b.out_pid \"\n",
    "    \"GROUP BY a.regine, a.type, c.year, b.name, b.unit \"\n",
    "    \"ORDER BY a.regine, a.type, c.year, b.name\"\n",
    ")\n",
    "df = pd.read_sql(sql, ora_eng)\n",
    "\n",
    "# Just data of interest\n",
    "par_list = [\"As\", \"Cd\", \"Cr\", \"Cu\", \"Hg\", \"Ni\", \"Pb\", \"Zn\"]\n",
    "df.dropna(subset=[\"regine\"], inplace=True)\n",
    "df = df.query(\"name in @par_list\")\n",
    "\n",
    "# Save\n",
    "pt_csv = r\"../data/metals/point_discharges/regine_pt_dis_metals.csv\"\n",
    "df.to_csv(pt_csv, index=False)"
   ]
  },
  {
   "cell_type": "code",
   "execution_count": 21,
   "metadata": {},
   "outputs": [
    {
     "data": {
      "text/html": [
       "<div>\n",
       "<style scoped>\n",
       "    .dataframe tbody tr th:only-of-type {\n",
       "        vertical-align: middle;\n",
       "    }\n",
       "\n",
       "    .dataframe tbody tr th {\n",
       "        vertical-align: top;\n",
       "    }\n",
       "\n",
       "    .dataframe thead th {\n",
       "        text-align: right;\n",
       "    }\n",
       "</style>\n",
       "<table border=\"1\" class=\"dataframe\">\n",
       "  <thead>\n",
       "    <tr style=\"text-align: right;\">\n",
       "      <th></th>\n",
       "      <th>anlegg_nr</th>\n",
       "      <th>navn</th>\n",
       "      <th>lon</th>\n",
       "      <th>lat</th>\n",
       "      <th>regine</th>\n",
       "      <th>type</th>\n",
       "      <th>year</th>\n",
       "    </tr>\n",
       "  </thead>\n",
       "  <tbody>\n",
       "    <tr>\n",
       "      <th>0</th>\n",
       "      <td>0101.0022.01</td>\n",
       "      <td>Høvik Komponent A.S</td>\n",
       "      <td>11.424077</td>\n",
       "      <td>59.115619</td>\n",
       "      <td>001.22Z</td>\n",
       "      <td>INDUSTRI</td>\n",
       "      <td>1992</td>\n",
       "    </tr>\n",
       "    <tr>\n",
       "      <th>1</th>\n",
       "      <td>0101.0022.01</td>\n",
       "      <td>Høvik Komponent A.S</td>\n",
       "      <td>11.424077</td>\n",
       "      <td>59.115619</td>\n",
       "      <td>001.22Z</td>\n",
       "      <td>INDUSTRI</td>\n",
       "      <td>1993</td>\n",
       "    </tr>\n",
       "    <tr>\n",
       "      <th>2</th>\n",
       "      <td>0101.0022.01</td>\n",
       "      <td>Høvik Komponent A.S</td>\n",
       "      <td>11.424077</td>\n",
       "      <td>59.115619</td>\n",
       "      <td>001.22Z</td>\n",
       "      <td>INDUSTRI</td>\n",
       "      <td>1994</td>\n",
       "    </tr>\n",
       "    <tr>\n",
       "      <th>3</th>\n",
       "      <td>0101.0022.01</td>\n",
       "      <td>Høvik Komponent A.S</td>\n",
       "      <td>11.424077</td>\n",
       "      <td>59.115619</td>\n",
       "      <td>001.22Z</td>\n",
       "      <td>INDUSTRI</td>\n",
       "      <td>1995</td>\n",
       "    </tr>\n",
       "    <tr>\n",
       "      <th>4</th>\n",
       "      <td>0101.0022.01</td>\n",
       "      <td>Høvik Komponent A.S</td>\n",
       "      <td>11.424077</td>\n",
       "      <td>59.115619</td>\n",
       "      <td>001.22Z</td>\n",
       "      <td>INDUSTRI</td>\n",
       "      <td>1996</td>\n",
       "    </tr>\n",
       "  </tbody>\n",
       "</table>\n",
       "</div>"
      ],
      "text/plain": [
       "      anlegg_nr                 navn        lon        lat   regine      type  \\\n",
       "0  0101.0022.01  Høvik Komponent A.S  11.424077  59.115619  001.22Z  INDUSTRI   \n",
       "1  0101.0022.01  Høvik Komponent A.S  11.424077  59.115619  001.22Z  INDUSTRI   \n",
       "2  0101.0022.01  Høvik Komponent A.S  11.424077  59.115619  001.22Z  INDUSTRI   \n",
       "3  0101.0022.01  Høvik Komponent A.S  11.424077  59.115619  001.22Z  INDUSTRI   \n",
       "4  0101.0022.01  Høvik Komponent A.S  11.424077  59.115619  001.22Z  INDUSTRI   \n",
       "\n",
       "   year  \n",
       "0  1992  \n",
       "1  1993  \n",
       "2  1994  \n",
       "3  1995  \n",
       "4  1996  "
      ]
     },
     "execution_count": 21,
     "metadata": {},
     "output_type": "execute_result"
    }
   ],
   "source": [
    "# All industry/renseanlegg inputs for Jose/annual TEOTIL report\n",
    "sql = (\n",
    "    \"SELECT \"\n",
    "    \"  a.anlegg_nr, \"\n",
    "    \"  a.anlegg_navn as navn, \"\n",
    "    \"  a.lon_utl as lon, \"\n",
    "    \"  a.lat_utl as lat, \"\n",
    "    \"  a.regine, \"\n",
    "    \"  a.type, \"\n",
    "    \"  c.year \"\n",
    "    \"FROM RESA2.RID_PUNKTKILDER a, \"\n",
    "    \"RESA2.RID_PUNKTKILDER_INPAR_VALUES c \"\n",
    "    \"WHERE a.anlegg_nr = c.anlegg_nr \"\n",
    "    \"GROUP BY a.anlegg_nr, a.anlegg_navn, a.lon_utl, a.lat_utl, a.regine, a.type, c.year \"\n",
    "    \"ORDER BY a.anlegg_nr, a.anlegg_navn, a.lon_utl, a.lat_utl, a.regine, a.type, c.year\"\n",
    ")\n",
    "df = pd.read_sql(sql, ora_eng)\n",
    "\n",
    "# Save\n",
    "pt_csv = r\"nivabase_ind_ren_pt_discharges.csv\"\n",
    "df.to_csv(pt_csv, index=False)\n",
    "\n",
    "df.head()"
   ]
  },
  {
   "cell_type": "code",
   "execution_count": 22,
   "metadata": {},
   "outputs": [],
   "source": [
    "# All aquaculture inputs for Jose/annual TEOTIL report\n",
    "sql = (\n",
    "    \"SELECT \"\n",
    "    \"  a.nr as anlegg_nr, \"\n",
    "    \"  a.navn, \"\n",
    "    \"  a.bredde as lon, \"\n",
    "    \"  a.lengde as lat, \"\n",
    "    \"  a.regine, \"\n",
    "    \"  b.ar \"\n",
    "    \"FROM RESA2.rid_kilder_aquakultur a, \"\n",
    "    \"RESA2.rid_kilder_aqkult_values b \"\n",
    "    \"WHERE a.nr = b.anlegg_nr \"\n",
    "    \"GROUP BY a.nr, a.navn, a.bredde, a.lengde, a.regine, b.ar \"\n",
    "    \"ORDER BY a.nr, a.navn, a.bredde, a.lengde, a.regine, b.ar\"\n",
    ")\n",
    "df = pd.read_sql(sql, ora_eng)\n",
    "\n",
    "# Save\n",
    "pt_csv = r\"nivabase_aqu_pt_discharges.csv\"\n",
    "df.to_csv(pt_csv, index=False)"
   ]
  }
 ],
 "metadata": {
  "kernelspec": {
   "display_name": "Python 3",
   "language": "python",
   "name": "python3"
  },
  "language_info": {
   "codemirror_mode": {
    "name": "ipython",
    "version": 3
   },
   "file_extension": ".py",
   "mimetype": "text/x-python",
   "name": "python",
   "nbconvert_exporter": "python",
   "pygments_lexer": "ipython3",
   "version": "3.8.5"
  }
 },
 "nbformat": 4,
 "nbformat_minor": 4
}
